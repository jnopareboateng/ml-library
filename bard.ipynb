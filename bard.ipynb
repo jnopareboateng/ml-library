{
 "cells": [
  {
   "cell_type": "code",
   "execution_count": 1,
   "metadata": {},
   "outputs": [],
   "source": [
    "import pandas as pd\n",
    "\n",
    "# Read the data as a DataFrame, skipping the first row (header)\n",
    "data = pd.read_csv(\"Commodity Prices Monthly.csv\", skiprows=1)"
   ]
  },
  {
   "cell_type": "code",
   "execution_count": 2,
   "metadata": {},
   "outputs": [],
   "source": [
    "# Drop the last row\n",
    "data = data.drop(data.index[-1])\n"
   ]
  },
  {
   "cell_type": "code",
   "execution_count": 4,
   "metadata": {},
   "outputs": [
    {
     "name": "stdout",
     "output_type": "stream",
     "text": [
      "Error: 'Price' column does not exist in the DataFrame.\n"
     ]
    }
   ],
   "source": [
    "# Check if 'Price' column exists in the DataFrame\n",
    "if 'Price' in data.columns:\n",
    "    # Convert the 'Price' column to numeric (assuming data represents valid numbers)\n",
    "    data['Price'] = pd.to_numeric(data['Price'], errors='coerce')\n",
    "else:\n",
    "    print(\"Error: 'Price' column does not exist in the DataFrame.\")\n"
   ]
  },
  {
   "cell_type": "code",
   "execution_count": null,
   "metadata": {},
   "outputs": [],
   "source": []
  }
 ],
 "metadata": {
  "kernelspec": {
   "display_name": ".venv",
   "language": "python",
   "name": "python3"
  },
  "language_info": {
   "codemirror_mode": {
    "name": "ipython",
    "version": 3
   },
   "file_extension": ".py",
   "mimetype": "text/x-python",
   "name": "python",
   "nbconvert_exporter": "python",
   "pygments_lexer": "ipython3",
   "version": "3.10.11"
  }
 },
 "nbformat": 4,
 "nbformat_minor": 2
}
