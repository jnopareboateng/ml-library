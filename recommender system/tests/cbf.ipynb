{
 "cells": [
  {
   "cell_type": "code",
   "execution_count": null,
   "metadata": {},
   "outputs": [],
   "source": [
    "from sklearn.model_selection import train_test_split\n",
    "from sklearn.metrics import mean_squared_error\n",
    "import numpy as np\n",
    "import pandas as pd\n",
    "\n",
    "# Sample data loading\n",
    "# interactions = pd.read_csv('user_item_interactions.csv')\n",
    "\n",
    "# Split data into training and testing sets\n",
    "train_data, test_data = train_test_split(interactions, test_size=0.2, random_state=42)\n",
    "\n",
    "# User-based Collaborative Filtering\n",
    "from surprise import Reader, Dataset, SVD\n",
    "from surprise.model_selection import train_test_split\n",
    "\n",
    "# Load the dataset (assuming interactions has 'user_id', 'item_id', 'rating' columns)\n",
    "reader = Reader(rating_scale=(0, 1))\n",
    "data = Dataset.load_from_df(train_data[['user_id', 'item_id', 'rating']], reader)\n",
    "\n",
    "# Train-test split\n",
    "trainset, testset = train_test_split(data, test_size=0.2)\n",
    "\n",
    "# Train SVD algorithm (matrix factorization)\n",
    "algo = SVD()\n",
    "algo.fit(trainset)\n",
    "\n",
    "# Evaluate on testset\n",
    "predictions = algo.test(testset)\n",
    "accuracy.rmse(predictions)\n"
   ]
  }
 ],
 "metadata": {
  "language_info": {
   "name": "python"
  }
 },
 "nbformat": 4,
 "nbformat_minor": 2
}
