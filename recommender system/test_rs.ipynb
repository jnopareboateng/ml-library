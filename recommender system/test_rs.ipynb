{
  "cells": [
    {
      "cell_type": "code",
      "execution_count": 1,
      "metadata": {
        "colab": {
          "base_uri": "https://localhost:8080/"
        },
        "id": "6dIPi5A4K07w",
        "outputId": "cf085d28-4dab-48b1-cae7-fc2e91a666a2"
      },
      "outputs": [
        {
          "name": "stdout",
          "output_type": "stream",
          "text": [
            "WARNING:tensorflow:From d:\\DEV WORK\\Data Science Library\\ML-For-Beginners\\.venv\\lib\\site-packages\\keras\\src\\losses.py:2976: The name tf.losses.sparse_softmax_cross_entropy is deprecated. Please use tf.compat.v1.losses.sparse_softmax_cross_entropy instead.\n",
            "\n"
          ]
        }
      ],
      "source": [
        "import pandas as pd\n",
        "import numpy as np\n",
        "from sklearn.preprocessing import StandardScaler\n",
        "from sklearn.decomposition import PCA\n",
        "from sklearn.cluster import KMeans\n",
        "from sklearn.metrics.pairwise import cosine_similarity\n",
        "import gradio as gr\n",
        "import tensorflow as tf\n",
        "from tensorflow.keras.models import Sequential\n",
        "from tensorflow.keras.layers import Dense, Embedding, Reshape\n",
        "from tensorflow.keras.optimizers import Adam\n"
      ]
    },
    {
      "cell_type": "code",
      "execution_count": 3,
      "metadata": {
        "colab": {
          "base_uri": "https://localhost:8080/"
        },
        "id": "xOSAXRnoLuEE",
        "outputId": "cc48b2e4-b39c-4f81-b993-f7f074d4fce2"
      },
      "outputs": [
        {
          "name": "stdout",
          "output_type": "stream",
          "text": [
            "<class 'pandas.core.frame.DataFrame'>\n",
            "RangeIndex: 35001 entries, 0 to 35000\n",
            "Data columns (total 32 columns):\n",
            " #   Column              Non-Null Count  Dtype  \n",
            "---  ------              --------------  -----  \n",
            " 0   usersha1            35001 non-null  int64  \n",
            " 1   age                 35001 non-null  int64  \n",
            " 2   Education           35001 non-null  object \n",
            " 3   gender              35001 non-null  object \n",
            " 4   Name                35001 non-null  object \n",
            " 5   country             35001 non-null  object \n",
            " 6   Music               35001 non-null  object \n",
            " 7   artname             35001 non-null  object \n",
            " 8   featured_artists    15808 non-null  object \n",
            " 9   Genre               30578 non-null  object \n",
            " 10  plays               35001 non-null  int64  \n",
            " 11  Artiste Popularity  35001 non-null  float64\n",
            " 12  Audio Popularity    35001 non-null  float64\n",
            " 13  Music Acousticness  35001 non-null  float64\n",
            " 14  Danceability        35001 non-null  float64\n",
            " 15  Energy              35001 non-null  float64\n",
            " 16  Key                 35001 non-null  int64  \n",
            " 17  Loudness            35001 non-null  float64\n",
            " 18  Mode                35001 non-null  int64  \n",
            " 19  Speechiness         35001 non-null  float64\n",
            " 20  Instrumentalness    35001 non-null  float64\n",
            " 21  Liveness            35001 non-null  float64\n",
            " 22  Valence             35001 non-null  float64\n",
            " 23  Tempo               35001 non-null  float64\n",
            " 24  Time Signature      35001 non-null  int64  \n",
            " 25  Track Genre         35001 non-null  object \n",
            " 26  Release Date        35001 non-null  object \n",
            " 27  Explicit            35001 non-null  bool   \n",
            " 28  Duration            35001 non-null  float64\n",
            " 29  ID                  35001 non-null  object \n",
            " 30  id_artists          35001 non-null  object \n",
            " 31  Followers           35001 non-null  int64  \n",
            "dtypes: bool(1), float64(12), int64(7), object(12)\n",
            "memory usage: 8.3+ MB\n",
            "None\n",
            "   usersha1  age        Education    gender      Name      country  \\\n",
            "0     83811   16   Undergraduate      Male   Danielle       Urban    \n",
            "1     83811   16   Undergraduate      Male   Danielle       Urban    \n",
            "2     83811   16   Undergraduate      Male   Danielle       Urban    \n",
            "3     13397   17   Middle School    Female      Angel   Non-Urban    \n",
            "4     13397   17   Middle School    Female      Angel   Non-Urban    \n",
            "\n",
            "                                               Music               artname  \\\n",
            "0                                       Bank Account             21 Savage   \n",
            "1  Mo Money Mo Problems (feat. Mase & Puff Daddy)...  The Notorious B.I.G.   \n",
            "2                                       Little Talks   Of Monsters and Men   \n",
            "3                                      Wherever I Go           OneRepublic   \n",
            "4                                    Hands To Myself          Selena Gomez   \n",
            "\n",
            "                        featured_artists            Genre  ...   Valence  \\\n",
            "0                             Birdy, Zoé        Dark Trap  ...  0.198838   \n",
            "1                               LUDMILLA  Underground Rap  ...  0.904000   \n",
            "2      Ninho, Snoop Dogg, Russ, Paramore              NaN  ...  0.417000   \n",
            "3  Keith Urban, DJ Khaled, NIKI, MF DOOM              NaN  ...  0.349000   \n",
            "4     SAINt JHN, David Bisbal, will.i.am              NaN  ...  0.079792   \n",
            "\n",
            "        Tempo  Time Signature  Track Genre  Release Date  Explicit  Duration  \\\n",
            "0  147.482666               5      Unknown    2017-09-23      True      3.67   \n",
            "1  104.536000               4     hardcore    1997-03-04     False      4.29   \n",
            "2  102.961000               4         folk    2012-01-01      True      4.44   \n",
            "3   99.961000               4        piano    2016-12-02      True      2.83   \n",
            "4   84.918633               3      Unknown    2015-10-09      True      3.34   \n",
            "\n",
            "                       ID                             id_artists  Followers  \n",
            "0  2fQrGHiQOvpL9UgPvtYy6G  spotify:artist:1URnnhqYAYcrqrcwql10ft     440898  \n",
            "1  4INDiWSKvqSKDEu7mh8HFz  spotify:artist:5me0Irg2ANcsgc93uaYrpb     849749  \n",
            "2  2ihCaVdNZmnHZWt0fvAM7B  spotify:artist:4dwdTW1Lfiq0cM8nBAqIIz     733052  \n",
            "3  46jLy47W8rkf8rEX04gMKB  spotify:artist:5Pwc4xIPtQLFEnJriah9YJ     766179  \n",
            "4  3CJvmtWw2bJsudbAC5uCQk  spotify:artist:0C8ZW7ezQVs4URX5aX7Kqx     399591  \n",
            "\n",
            "[5 rows x 32 columns]\n"
          ]
        }
      ],
      "source": [
        "# Load the dataset\n",
        "data = pd.read_csv(\"Synthetic_Data_With_Spotify_MPD.csv\")\n",
        "\n",
        "# Display basic information about the dataset\n",
        "print(data.info())\n",
        "print(data.head())\n"
      ]
    },
    {
      "cell_type": "code",
      "execution_count": 4,
      "metadata": {
        "colab": {
          "base_uri": "https://localhost:8080/"
        },
        "id": "RLmuAW1_PiUY",
        "outputId": "94ac4d5a-6864-406e-9a5f-445b6c7c5f18"
      },
      "outputs": [
        {
          "name": "stdout",
          "output_type": "stream",
          "text": [
            "usersha1                  0\n",
            "age                       0\n",
            "Education                 0\n",
            "gender                    0\n",
            "Name                      0\n",
            "country                   0\n",
            "Music                     0\n",
            "artname                   0\n",
            "featured_artists      19193\n",
            "Genre                  4423\n",
            "plays                     0\n",
            "Artiste Popularity        0\n",
            "Audio Popularity          0\n",
            "Music Acousticness        0\n",
            "Danceability              0\n",
            "Energy                    0\n",
            "Key                       0\n",
            "Loudness                  0\n",
            "Mode                      0\n",
            "Speechiness               0\n",
            "Instrumentalness          0\n",
            "Liveness                  0\n",
            "Valence                   0\n",
            "Tempo                     0\n",
            "Time Signature            0\n",
            "Track Genre               0\n",
            "Release Date              0\n",
            "Explicit                  0\n",
            "Duration                  0\n",
            "ID                        0\n",
            "id_artists                0\n",
            "Followers                 0\n",
            "dtype: int64\n"
          ]
        }
      ],
      "source": [
        "# Check for missing values\n",
        "missing_values = data.isnull().sum()\n",
        "\n",
        "# Display missing values\n",
        "print(missing_values)"
      ]
    },
    {
      "cell_type": "code",
      "execution_count": 5,
      "metadata": {
        "id": "EyFb9p1mK9TR"
      },
      "outputs": [],
      "source": [
        "# Check for the presence of the 'Release Date' column\n",
        "if 'Release Date' not in data.columns:\n",
        "    print(\"Warning: 'Release Date' column is missing from the dataset.\")\n",
        "else:\n",
        "    # Preprocessing steps\n",
        "    data_cleaned = data.copy()\n",
        "\n",
        "    # Handle missing values\n",
        "    data_cleaned['featured_artists'].fillna('No Featured Artists', inplace=True)\n",
        "    data_cleaned['Genre'].fillna('Unknown', inplace=True)\n",
        "\n",
        "    # One-hot encoding categorical variables\n",
        "    data_encoded = pd.get_dummies(data_cleaned, columns=['Education', 'gender', 'country', 'Genre'], drop_first=True)\n"
      ]
    },
    {
      "cell_type": "code",
      "execution_count": 6,
      "metadata": {
        "colab": {
          "base_uri": "https://localhost:8080/"
        },
        "id": "I-vtZsxvLAQP",
        "outputId": "57c4c2a0-ee41-413c-c0e4-2f18ab600ed2"
      },
      "outputs": [
        {
          "data": {
            "text/plain": [
              "usersha1              0\n",
              "age                   0\n",
              "Education             0\n",
              "gender                0\n",
              "Name                  0\n",
              "country               0\n",
              "Music                 0\n",
              "artname               0\n",
              "featured_artists      0\n",
              "Genre                 0\n",
              "plays                 0\n",
              "Artiste Popularity    0\n",
              "Audio Popularity      0\n",
              "Music Acousticness    0\n",
              "Danceability          0\n",
              "Energy                0\n",
              "Key                   0\n",
              "Loudness              0\n",
              "Mode                  0\n",
              "Speechiness           0\n",
              "Instrumentalness      0\n",
              "Liveness              0\n",
              "Valence               0\n",
              "Tempo                 0\n",
              "Time Signature        0\n",
              "Track Genre           0\n",
              "Release Date          0\n",
              "Explicit              0\n",
              "Duration              0\n",
              "ID                    0\n",
              "id_artists            0\n",
              "Followers             0\n",
              "dtype: int64"
            ]
          },
          "execution_count": 6,
          "metadata": {},
          "output_type": "execute_result"
        }
      ],
      "source": [
        "data_cleaned.isnull().sum()"
      ]
    },
    {
      "cell_type": "code",
      "execution_count": 7,
      "metadata": {
        "colab": {
          "base_uri": "https://localhost:8080/"
        },
        "id": "Nuy3MG5eJQdt",
        "outputId": "00066252-0cb6-413f-f091-2ad06438ac8d"
      },
      "outputs": [
        {
          "name": "stdout",
          "output_type": "stream",
          "text": [
            "   usersha1  age      Name                                              Music  \\\n",
            "0     83811   16  Danielle                                       Bank Account   \n",
            "1     83811   16  Danielle  Mo Money Mo Problems (feat. Mase & Puff Daddy)...   \n",
            "2     83811   16  Danielle                                       Little Talks   \n",
            "3     13397   17     Angel                                      Wherever I Go   \n",
            "4     13397   17     Angel                                    Hands To Myself   \n",
            "\n",
            "                artname                       featured_artists  plays  \\\n",
            "0             21 Savage                             Birdy, Zoé     11   \n",
            "1  The Notorious B.I.G.                               LUDMILLA   1091   \n",
            "2   Of Monsters and Men      Ninho, Snoop Dogg, Russ, Paramore    686   \n",
            "3           OneRepublic  Keith Urban, DJ Khaled, NIKI, MF DOOM    136   \n",
            "4          Selena Gomez     SAINt JHN, David Bisbal, will.i.am      1   \n",
            "\n",
            "   Artiste Popularity  Audio Popularity  Music Acousticness  ...  \\\n",
            "0         9289.820129           22.0306            0.676699  ...   \n",
            "1         5171.977853           25.7399            0.012800  ...   \n",
            "2         2380.280721           26.6600            0.020600  ...   \n",
            "3         9926.540057           16.9773            0.091500  ...   \n",
            "4        13905.383000           20.0680            0.552041  ...   \n",
            "\n",
            "   Genre_Underground Rap  Genre_Unknown  Genre_dnb  Genre_hardstyle  \\\n",
            "0                      0              0          0                0   \n",
            "1                      1              0          0                0   \n",
            "2                      0              1          0                0   \n",
            "3                      0              1          0                0   \n",
            "4                      0              1          0                0   \n",
            "\n",
            "   Genre_techhouse  Genre_techno  Genre_trance  Genre_trap  Release Year  \\\n",
            "0                0             0             0           0          2017   \n",
            "1                0             0             0           0          1997   \n",
            "2                0             0             0           0          2012   \n",
            "3                0             0             0           0          2016   \n",
            "4                0             0             0           0          2015   \n",
            "\n",
            "   Release Month  \n",
            "0              9  \n",
            "1              3  \n",
            "2              1  \n",
            "3             12  \n",
            "4             10  \n",
            "\n",
            "[5 rows x 74 columns]\n"
          ]
        }
      ],
      "source": [
        "# Function to parse mixed date formats\n",
        "def parse_dates(date_str):\n",
        "  try:\n",
        "      return pd.to_datetime(date_str, format='%Y-%m-%d')\n",
        "  except ValueError:\n",
        "      try:\n",
        "          return pd.to_datetime(date_str, format='%Y-%m')\n",
        "      except ValueError:\n",
        "          return pd.to_datetime(date_str, format='%Y')\n",
        "\n",
        "# Apply date parsing\n",
        "data_encoded['Parsed Release Date'] = data_encoded['Release Date'].apply(parse_dates)\n",
        "\n",
        "# Extracting additional features from 'Release Date'\n",
        "data_encoded['Release Year'] = data_encoded['Parsed Release Date'].dt.year\n",
        "data_encoded['Release Month'] = data_encoded['Parsed Release Date'].dt.month\n",
        "\n",
        "# Dropping the original 'Release Date' and intermediate 'Parsed Release Date' columns\n",
        "data_encoded.drop(columns=['Release Date', 'Parsed Release Date'], inplace=True)\n",
        "\n",
        "# Inspect the DataFrame after encoding and feature extraction\n",
        "print(data_encoded.head())\n"
      ]
    },
    {
      "cell_type": "code",
      "execution_count": 8,
      "metadata": {
        "colab": {
          "base_uri": "https://localhost:8080/",
          "height": 481
        },
        "id": "Wxy8dp80LL0T",
        "outputId": "063e3075-2d87-40bd-d8a0-15fae3c956a4"
      },
      "outputs": [
        {
          "data": {
            "text/html": [
              "<div>\n",
              "<style scoped>\n",
              "    .dataframe tbody tr th:only-of-type {\n",
              "        vertical-align: middle;\n",
              "    }\n",
              "\n",
              "    .dataframe tbody tr th {\n",
              "        vertical-align: top;\n",
              "    }\n",
              "\n",
              "    .dataframe thead th {\n",
              "        text-align: right;\n",
              "    }\n",
              "</style>\n",
              "<table border=\"1\" class=\"dataframe\">\n",
              "  <thead>\n",
              "    <tr style=\"text-align: right;\">\n",
              "      <th></th>\n",
              "      <th>usersha1</th>\n",
              "      <th>age</th>\n",
              "      <th>Name</th>\n",
              "      <th>Music</th>\n",
              "      <th>artname</th>\n",
              "      <th>featured_artists</th>\n",
              "      <th>plays</th>\n",
              "      <th>Artiste Popularity</th>\n",
              "      <th>Audio Popularity</th>\n",
              "      <th>Music Acousticness</th>\n",
              "      <th>...</th>\n",
              "      <th>Genre_Underground Rap</th>\n",
              "      <th>Genre_Unknown</th>\n",
              "      <th>Genre_dnb</th>\n",
              "      <th>Genre_hardstyle</th>\n",
              "      <th>Genre_techhouse</th>\n",
              "      <th>Genre_techno</th>\n",
              "      <th>Genre_trance</th>\n",
              "      <th>Genre_trap</th>\n",
              "      <th>Release Year</th>\n",
              "      <th>Release Month</th>\n",
              "    </tr>\n",
              "  </thead>\n",
              "  <tbody>\n",
              "    <tr>\n",
              "      <th>0</th>\n",
              "      <td>83811</td>\n",
              "      <td>16</td>\n",
              "      <td>Danielle</td>\n",
              "      <td>Bank Account</td>\n",
              "      <td>21 Savage</td>\n",
              "      <td>Birdy, Zoé</td>\n",
              "      <td>11</td>\n",
              "      <td>9289.820129</td>\n",
              "      <td>22.0306</td>\n",
              "      <td>0.676699</td>\n",
              "      <td>...</td>\n",
              "      <td>0</td>\n",
              "      <td>0</td>\n",
              "      <td>0</td>\n",
              "      <td>0</td>\n",
              "      <td>0</td>\n",
              "      <td>0</td>\n",
              "      <td>0</td>\n",
              "      <td>0</td>\n",
              "      <td>2017</td>\n",
              "      <td>9</td>\n",
              "    </tr>\n",
              "    <tr>\n",
              "      <th>1</th>\n",
              "      <td>83811</td>\n",
              "      <td>16</td>\n",
              "      <td>Danielle</td>\n",
              "      <td>Mo Money Mo Problems (feat. Mase &amp; Puff Daddy)...</td>\n",
              "      <td>The Notorious B.I.G.</td>\n",
              "      <td>LUDMILLA</td>\n",
              "      <td>1091</td>\n",
              "      <td>5171.977853</td>\n",
              "      <td>25.7399</td>\n",
              "      <td>0.012800</td>\n",
              "      <td>...</td>\n",
              "      <td>1</td>\n",
              "      <td>0</td>\n",
              "      <td>0</td>\n",
              "      <td>0</td>\n",
              "      <td>0</td>\n",
              "      <td>0</td>\n",
              "      <td>0</td>\n",
              "      <td>0</td>\n",
              "      <td>1997</td>\n",
              "      <td>3</td>\n",
              "    </tr>\n",
              "    <tr>\n",
              "      <th>2</th>\n",
              "      <td>83811</td>\n",
              "      <td>16</td>\n",
              "      <td>Danielle</td>\n",
              "      <td>Little Talks</td>\n",
              "      <td>Of Monsters and Men</td>\n",
              "      <td>Ninho, Snoop Dogg, Russ, Paramore</td>\n",
              "      <td>686</td>\n",
              "      <td>2380.280721</td>\n",
              "      <td>26.6600</td>\n",
              "      <td>0.020600</td>\n",
              "      <td>...</td>\n",
              "      <td>0</td>\n",
              "      <td>1</td>\n",
              "      <td>0</td>\n",
              "      <td>0</td>\n",
              "      <td>0</td>\n",
              "      <td>0</td>\n",
              "      <td>0</td>\n",
              "      <td>0</td>\n",
              "      <td>2012</td>\n",
              "      <td>1</td>\n",
              "    </tr>\n",
              "    <tr>\n",
              "      <th>3</th>\n",
              "      <td>13397</td>\n",
              "      <td>17</td>\n",
              "      <td>Angel</td>\n",
              "      <td>Wherever I Go</td>\n",
              "      <td>OneRepublic</td>\n",
              "      <td>Keith Urban, DJ Khaled, NIKI, MF DOOM</td>\n",
              "      <td>136</td>\n",
              "      <td>9926.540057</td>\n",
              "      <td>16.9773</td>\n",
              "      <td>0.091500</td>\n",
              "      <td>...</td>\n",
              "      <td>0</td>\n",
              "      <td>1</td>\n",
              "      <td>0</td>\n",
              "      <td>0</td>\n",
              "      <td>0</td>\n",
              "      <td>0</td>\n",
              "      <td>0</td>\n",
              "      <td>0</td>\n",
              "      <td>2016</td>\n",
              "      <td>12</td>\n",
              "    </tr>\n",
              "    <tr>\n",
              "      <th>4</th>\n",
              "      <td>13397</td>\n",
              "      <td>17</td>\n",
              "      <td>Angel</td>\n",
              "      <td>Hands To Myself</td>\n",
              "      <td>Selena Gomez</td>\n",
              "      <td>SAINt JHN, David Bisbal, will.i.am</td>\n",
              "      <td>1</td>\n",
              "      <td>13905.383000</td>\n",
              "      <td>20.0680</td>\n",
              "      <td>0.552041</td>\n",
              "      <td>...</td>\n",
              "      <td>0</td>\n",
              "      <td>1</td>\n",
              "      <td>0</td>\n",
              "      <td>0</td>\n",
              "      <td>0</td>\n",
              "      <td>0</td>\n",
              "      <td>0</td>\n",
              "      <td>0</td>\n",
              "      <td>2015</td>\n",
              "      <td>10</td>\n",
              "    </tr>\n",
              "  </tbody>\n",
              "</table>\n",
              "<p>5 rows × 74 columns</p>\n",
              "</div>"
            ],
            "text/plain": [
              "   usersha1  age      Name                                              Music  \\\n",
              "0     83811   16  Danielle                                       Bank Account   \n",
              "1     83811   16  Danielle  Mo Money Mo Problems (feat. Mase & Puff Daddy)...   \n",
              "2     83811   16  Danielle                                       Little Talks   \n",
              "3     13397   17     Angel                                      Wherever I Go   \n",
              "4     13397   17     Angel                                    Hands To Myself   \n",
              "\n",
              "                artname                       featured_artists  plays  \\\n",
              "0             21 Savage                             Birdy, Zoé     11   \n",
              "1  The Notorious B.I.G.                               LUDMILLA   1091   \n",
              "2   Of Monsters and Men      Ninho, Snoop Dogg, Russ, Paramore    686   \n",
              "3           OneRepublic  Keith Urban, DJ Khaled, NIKI, MF DOOM    136   \n",
              "4          Selena Gomez     SAINt JHN, David Bisbal, will.i.am      1   \n",
              "\n",
              "   Artiste Popularity  Audio Popularity  Music Acousticness  ...  \\\n",
              "0         9289.820129           22.0306            0.676699  ...   \n",
              "1         5171.977853           25.7399            0.012800  ...   \n",
              "2         2380.280721           26.6600            0.020600  ...   \n",
              "3         9926.540057           16.9773            0.091500  ...   \n",
              "4        13905.383000           20.0680            0.552041  ...   \n",
              "\n",
              "   Genre_Underground Rap  Genre_Unknown  Genre_dnb  Genre_hardstyle  \\\n",
              "0                      0              0          0                0   \n",
              "1                      1              0          0                0   \n",
              "2                      0              1          0                0   \n",
              "3                      0              1          0                0   \n",
              "4                      0              1          0                0   \n",
              "\n",
              "   Genre_techhouse  Genre_techno  Genre_trance  Genre_trap  Release Year  \\\n",
              "0                0             0             0           0          2017   \n",
              "1                0             0             0           0          1997   \n",
              "2                0             0             0           0          2012   \n",
              "3                0             0             0           0          2016   \n",
              "4                0             0             0           0          2015   \n",
              "\n",
              "   Release Month  \n",
              "0              9  \n",
              "1              3  \n",
              "2              1  \n",
              "3             12  \n",
              "4             10  \n",
              "\n",
              "[5 rows x 74 columns]"
            ]
          },
          "execution_count": 8,
          "metadata": {},
          "output_type": "execute_result"
        }
      ],
      "source": [
        "data_encoded.head()"
      ]
    },
    {
      "cell_type": "code",
      "execution_count": 9,
      "metadata": {
        "id": "CTP-yajQTVD8"
      },
      "outputs": [],
      "source": [
        "from sklearn.model_selection import train_test_split\n",
        "from sklearn.preprocessing import OneHotEncoder, StandardScaler\n",
        "from sklearn.compose import ColumnTransformer\n",
        "from sklearn.pipeline import Pipeline"
      ]
    },
    {
      "cell_type": "code",
      "execution_count": 10,
      "metadata": {
        "id": "-eDuR1FQS5cT"
      },
      "outputs": [],
      "source": [
        "# Split the data into train, validation, and test sets\n",
        "train_data, val_and_test_data = train_test_split(data_cleaned, test_size=0.3, random_state=42)\n",
        "val_data, test_data = train_test_split(val_and_test_data, test_size=0.5, random_state=42)\n"
      ]
    },
    {
      "cell_type": "code",
      "execution_count": 11,
      "metadata": {
        "id": "Tzv_syGORy3g"
      },
      "outputs": [],
      "source": [
        "# Select user demographic features\n",
        "user_demographic_features = ['age', 'Education', 'gender', 'country']\n"
      ]
    },
    {
      "cell_type": "code",
      "execution_count": 12,
      "metadata": {
        "id": "X3alB9-RRnva"
      },
      "outputs": [],
      "source": [
        "# Preprocessing pipeline for demographic features\n",
        "preprocessor = ColumnTransformer(\n",
        "    transformers=[\n",
        "        ('num', StandardScaler(), ['age']),\n",
        "        ('cat', OneHotEncoder(handle_unknown='ignore'), ['Education', 'gender', 'country'])\n",
        "    ])"
      ]
    },
    {
      "cell_type": "code",
      "execution_count": 13,
      "metadata": {
        "id": "qyfyWhIPRumA"
      },
      "outputs": [],
      "source": [
        "# Apply the preprocessing pipeline to train, validation, and test data\n",
        "train_data_demographics = preprocessor.fit_transform(train_data[user_demographic_features])\n",
        "val_data_demographics = preprocessor.transform(val_data[user_demographic_features])\n",
        "test_data_demographics = preprocessor.transform(test_data[user_demographic_features])\n"
      ]
    },
    {
      "cell_type": "code",
      "execution_count": 14,
      "metadata": {
        "id": "XZ8U4wTgTnuE"
      },
      "outputs": [],
      "source": [
        "# Convert to DataFrame for easier handling\n",
        "train_data_demographics_df = pd.DataFrame(train_data_demographics, columns=preprocessor.get_feature_names_out())\n",
        "val_data_demographics_df = pd.DataFrame(val_data_demographics, columns=preprocessor.get_feature_names_out())\n",
        "test_data_demographics_df = pd.DataFrame(test_data_demographics, columns=preprocessor.get_feature_names_out())"
      ]
    },
    {
      "cell_type": "markdown",
      "metadata": {
        "id": "EcI-GyKHT4g-"
      },
      "source": [
        "Context- aware Content Based Features\n"
      ]
    },
    {
      "cell_type": "code",
      "execution_count": 15,
      "metadata": {
        "id": "z6ct7cwnUPta"
      },
      "outputs": [],
      "source": [
        "from sklearn.feature_extraction.text import TfidfVectorizer\n",
        "\n",
        "# Combine item features into a single text feature\n",
        "train_data['combined_features'] = train_data[['Music', 'artname', 'featured_artists', 'Genre']].fillna('').agg(' '.join, axis=1)\n",
        "val_data['combined_features'] = val_data[['Music', 'artname', 'featured_artists', 'Genre']].fillna('').agg(' '.join, axis=1)\n",
        "test_data['combined_features'] = test_data[['Music', 'artname', 'featured_artists', 'Genre']].fillna('').agg(' '.join, axis=1)\n",
        "\n",
        "# Vectorize the combined item features\n",
        "tfidf_vectorizer = TfidfVectorizer()\n",
        "train_tfidf_matrix = tfidf_vectorizer.fit_transform(train_data['combined_features'])\n",
        "val_tfidf_matrix = tfidf_vectorizer.transform(val_data['combined_features'])\n",
        "test_tfidf_matrix = tfidf_vectorizer.transform(test_data['combined_features'])\n",
        "\n",
        "# Convert TF-IDF matrices to DataFrames for easier handling\n",
        "train_tfidf_df = pd.DataFrame(train_tfidf_matrix.toarray(), columns=tfidf_vectorizer.get_feature_names_out())\n",
        "val_tfidf_df = pd.DataFrame(val_tfidf_matrix.toarray(), columns=tfidf_vectorizer.get_feature_names_out())\n",
        "test_tfidf_df = pd.DataFrame(test_tfidf_matrix.toarray(), columns=tfidf_vectorizer.get_feature_names_out())\n",
        "\n",
        "# Combine TF-IDF features with demographic features\n",
        "train_combined_features_df = pd.concat([train_tfidf_df, train_data_demographics_df], axis=1)\n",
        "val_combined_features_df = pd.concat([val_tfidf_df, val_data_demographics_df], axis=1)\n",
        "test_combined_features_df = pd.concat([test_tfidf_df, test_data_demographics_df], axis=1)\n"
      ]
    },
    {
      "cell_type": "markdown",
      "metadata": {
        "id": "FgGex7ZvasBt"
      },
      "source": [
        "Collaborative Filtering\n"
      ]
    },
    {
      "cell_type": "code",
      "execution_count": 16,
      "metadata": {
        "id": "e0rQAeNwauZa"
      },
      "outputs": [],
      "source": [
        "from sklearn.metrics.pairwise import cosine_similarity\n",
        "\n",
        "# Creating a utility matrix for collaborative filtering\n",
        "train_data = train_data.drop_duplicates(subset='usersha1', keep='first')\n",
        "\n",
        "utility_matrix = train_data.pivot(index='usersha1', columns='Music', values='plays').fillna(0)\n",
        "\n",
        "# Calculating item similarity matrix\n",
        "item_similarity = cosine_similarity(utility_matrix.T)\n",
        "item_similarity_df = pd.DataFrame(item_similarity, index=utility_matrix.columns, columns=utility_matrix.columns)\n",
        "\n",
        "def get_similar_items(item_name, n=5):\n",
        "    similar_items = item_similarity_df[item_name].sort_values(ascending=False)[1:n+1]\n",
        "    return similar_items\n",
        "\n",
        "# Example usage\n",
        "# print(get_similar_items('Bank Account'))\n"
      ]
    },
    {
      "cell_type": "code",
      "execution_count": 17,
      "metadata": {
        "colab": {
          "base_uri": "https://localhost:8080/"
        },
        "id": "Wwgvf7uwbnM5",
        "outputId": "f641e7ba-c9f6-4f23-c35a-9c72cb1140ad"
      },
      "outputs": [
        {
          "ename": "KeyError",
          "evalue": "''",
          "output_type": "error",
          "traceback": [
            "\u001b[1;31m---------------------------------------------------------------------------\u001b[0m",
            "\u001b[1;31mKeyError\u001b[0m                                  Traceback (most recent call last)",
            "File \u001b[1;32md:\\DEV WORK\\Data Science Library\\ML-For-Beginners\\.venv\\lib\\site-packages\\pandas\\core\\indexes\\base.py:3802\u001b[0m, in \u001b[0;36mIndex.get_loc\u001b[1;34m(self, key, method, tolerance)\u001b[0m\n\u001b[0;32m   3801\u001b[0m \u001b[38;5;28;01mtry\u001b[39;00m:\n\u001b[1;32m-> 3802\u001b[0m     \u001b[38;5;28;01mreturn\u001b[39;00m \u001b[38;5;28;43mself\u001b[39;49m\u001b[38;5;241;43m.\u001b[39;49m\u001b[43m_engine\u001b[49m\u001b[38;5;241;43m.\u001b[39;49m\u001b[43mget_loc\u001b[49m\u001b[43m(\u001b[49m\u001b[43mcasted_key\u001b[49m\u001b[43m)\u001b[49m\n\u001b[0;32m   3803\u001b[0m \u001b[38;5;28;01mexcept\u001b[39;00m \u001b[38;5;167;01mKeyError\u001b[39;00m \u001b[38;5;28;01mas\u001b[39;00m err:\n",
            "File \u001b[1;32md:\\DEV WORK\\Data Science Library\\ML-For-Beginners\\.venv\\lib\\site-packages\\pandas\\_libs\\index.pyx:138\u001b[0m, in \u001b[0;36mpandas._libs.index.IndexEngine.get_loc\u001b[1;34m()\u001b[0m\n",
            "File \u001b[1;32md:\\DEV WORK\\Data Science Library\\ML-For-Beginners\\.venv\\lib\\site-packages\\pandas\\_libs\\index.pyx:165\u001b[0m, in \u001b[0;36mpandas._libs.index.IndexEngine.get_loc\u001b[1;34m()\u001b[0m\n",
            "File \u001b[1;32mpandas\\_libs\\hashtable_class_helper.pxi:5745\u001b[0m, in \u001b[0;36mpandas._libs.hashtable.PyObjectHashTable.get_item\u001b[1;34m()\u001b[0m\n",
            "File \u001b[1;32mpandas\\_libs\\hashtable_class_helper.pxi:5753\u001b[0m, in \u001b[0;36mpandas._libs.hashtable.PyObjectHashTable.get_item\u001b[1;34m()\u001b[0m\n",
            "\u001b[1;31mKeyError\u001b[0m: ''",
            "\nThe above exception was the direct cause of the following exception:\n",
            "\u001b[1;31mKeyError\u001b[0m                                  Traceback (most recent call last)",
            "Cell \u001b[1;32mIn[17], line 1\u001b[0m\n\u001b[1;32m----> 1\u001b[0m \u001b[38;5;28mprint\u001b[39m(\u001b[43mget_similar_items\u001b[49m\u001b[43m(\u001b[49m\u001b[38;5;124;43m'\u001b[39;49m\u001b[38;5;124;43m'\u001b[39;49m\u001b[43m)\u001b[49m)\n",
            "Cell \u001b[1;32mIn[16], line 13\u001b[0m, in \u001b[0;36mget_similar_items\u001b[1;34m(item_name, n)\u001b[0m\n\u001b[0;32m     12\u001b[0m \u001b[38;5;28;01mdef\u001b[39;00m \u001b[38;5;21mget_similar_items\u001b[39m(item_name, n\u001b[38;5;241m=\u001b[39m\u001b[38;5;241m5\u001b[39m):\n\u001b[1;32m---> 13\u001b[0m     similar_items \u001b[38;5;241m=\u001b[39m \u001b[43mitem_similarity_df\u001b[49m\u001b[43m[\u001b[49m\u001b[43mitem_name\u001b[49m\u001b[43m]\u001b[49m\u001b[38;5;241m.\u001b[39msort_values(ascending\u001b[38;5;241m=\u001b[39m\u001b[38;5;28;01mFalse\u001b[39;00m)[\u001b[38;5;241m1\u001b[39m:n\u001b[38;5;241m+\u001b[39m\u001b[38;5;241m1\u001b[39m]\n\u001b[0;32m     14\u001b[0m     \u001b[38;5;28;01mreturn\u001b[39;00m similar_items\n",
            "File \u001b[1;32md:\\DEV WORK\\Data Science Library\\ML-For-Beginners\\.venv\\lib\\site-packages\\pandas\\core\\frame.py:3807\u001b[0m, in \u001b[0;36mDataFrame.__getitem__\u001b[1;34m(self, key)\u001b[0m\n\u001b[0;32m   3805\u001b[0m \u001b[38;5;28;01mif\u001b[39;00m \u001b[38;5;28mself\u001b[39m\u001b[38;5;241m.\u001b[39mcolumns\u001b[38;5;241m.\u001b[39mnlevels \u001b[38;5;241m>\u001b[39m \u001b[38;5;241m1\u001b[39m:\n\u001b[0;32m   3806\u001b[0m     \u001b[38;5;28;01mreturn\u001b[39;00m \u001b[38;5;28mself\u001b[39m\u001b[38;5;241m.\u001b[39m_getitem_multilevel(key)\n\u001b[1;32m-> 3807\u001b[0m indexer \u001b[38;5;241m=\u001b[39m \u001b[38;5;28;43mself\u001b[39;49m\u001b[38;5;241;43m.\u001b[39;49m\u001b[43mcolumns\u001b[49m\u001b[38;5;241;43m.\u001b[39;49m\u001b[43mget_loc\u001b[49m\u001b[43m(\u001b[49m\u001b[43mkey\u001b[49m\u001b[43m)\u001b[49m\n\u001b[0;32m   3808\u001b[0m \u001b[38;5;28;01mif\u001b[39;00m is_integer(indexer):\n\u001b[0;32m   3809\u001b[0m     indexer \u001b[38;5;241m=\u001b[39m [indexer]\n",
            "File \u001b[1;32md:\\DEV WORK\\Data Science Library\\ML-For-Beginners\\.venv\\lib\\site-packages\\pandas\\core\\indexes\\base.py:3804\u001b[0m, in \u001b[0;36mIndex.get_loc\u001b[1;34m(self, key, method, tolerance)\u001b[0m\n\u001b[0;32m   3802\u001b[0m     \u001b[38;5;28;01mreturn\u001b[39;00m \u001b[38;5;28mself\u001b[39m\u001b[38;5;241m.\u001b[39m_engine\u001b[38;5;241m.\u001b[39mget_loc(casted_key)\n\u001b[0;32m   3803\u001b[0m \u001b[38;5;28;01mexcept\u001b[39;00m \u001b[38;5;167;01mKeyError\u001b[39;00m \u001b[38;5;28;01mas\u001b[39;00m err:\n\u001b[1;32m-> 3804\u001b[0m     \u001b[38;5;28;01mraise\u001b[39;00m \u001b[38;5;167;01mKeyError\u001b[39;00m(key) \u001b[38;5;28;01mfrom\u001b[39;00m \u001b[38;5;21;01merr\u001b[39;00m\n\u001b[0;32m   3805\u001b[0m \u001b[38;5;28;01mexcept\u001b[39;00m \u001b[38;5;167;01mTypeError\u001b[39;00m:\n\u001b[0;32m   3806\u001b[0m     \u001b[38;5;66;03m# If we have a listlike key, _check_indexing_error will raise\u001b[39;00m\n\u001b[0;32m   3807\u001b[0m     \u001b[38;5;66;03m#  InvalidIndexError. Otherwise we fall through and re-raise\u001b[39;00m\n\u001b[0;32m   3808\u001b[0m     \u001b[38;5;66;03m#  the TypeError.\u001b[39;00m\n\u001b[0;32m   3809\u001b[0m     \u001b[38;5;28mself\u001b[39m\u001b[38;5;241m.\u001b[39m_check_indexing_error(key)\n",
            "\u001b[1;31mKeyError\u001b[0m: ''"
          ]
        }
      ],
      "source": [
        "# print(get_similar_items(''))"
      ]
    },
    {
      "cell_type": "markdown",
      "metadata": {
        "id": "eyapuvBTaNpi"
      },
      "source": [
        "Content Based Filtering\n"
      ]
    },
    {
      "cell_type": "code",
      "execution_count": 18,
      "metadata": {
        "id": "TSlGxfnfUVTw"
      },
      "outputs": [],
      "source": [
        "from sklearn.metrics.pairwise import cosine_similarity\n",
        "\n",
        "# Calculate cosine similarity for content-based filtering with demographics\n",
        "cosine_sim_with_demographics = cosine_similarity(train_combined_features_df, train_combined_features_df)\n",
        "cosine_sim_with_demographics_df = pd.DataFrame(cosine_sim_with_demographics, index=train_combined_features_df.index, columns=train_combined_features_df.index)\n",
        "\n",
        "def get_content_based_recommendations_with_demographics(user_id, n=5):\n",
        "    user_data = train_data[train_data['usersha1'] == user_id]\n",
        "    if user_data.empty:\n",
        "        return []\n",
        "    user_idx = user_data.index[0]\n",
        "    sim_scores = list(enumerate(cosine_sim_with_demographics_df[user_idx]))\n",
        "    sim_scores = sorted(sim_scores, key=lambda x: x[1], reverse=True)\n",
        "    sim_scores = sim_scores[1:n+1]\n",
        "    item_indices = [i[0] for i in sim_scores]\n",
        "    return train_data.iloc[item_indices]\n",
        "\n",
        "# Example usage\n",
        "# print(get_content_based_recommendations_with_demographics('83811'))\n"
      ]
    },
    {
      "cell_type": "code",
      "execution_count": 19,
      "metadata": {
        "id": "Jz3Bwy2AUhp2"
      },
      "outputs": [],
      "source": [
        "def hybrid_recommendation_with_demographics(user_id, item_name, n=5):\n",
        "    collaborative_recommendations = pd.Series(get_similar_items(item_name, n))\n",
        "    content_based_recommendations = pd.Series(get_content_based_recommendations_with_demographics(user_id, n))\n",
        "    hybrid_recommendations = pd.concat([collaborative_recommendations, content_based_recommendations]).drop_duplicates()\n",
        "    return hybrid_recommendations.head(n)"
      ]
    },
    {
      "cell_type": "code",
      "execution_count": 20,
      "metadata": {},
      "outputs": [
        {
          "name": "stdout",
          "output_type": "stream",
          "text": [
            "Ready or Not    0.0\n",
            "dtype: float64\n"
          ]
        },
        {
          "name": "stderr",
          "output_type": "stream",
          "text": [
            "C:\\Users\\jnopa\\AppData\\Local\\Temp\\ipykernel_12576\\2297867171.py:3: FutureWarning: The default dtype for empty Series will be 'object' instead of 'float64' in a future version. Specify a dtype explicitly to silence this warning.\n",
            "  content_based_recommendations = pd.Series(get_content_based_recommendations_with_demographics(user_id, n))\n"
          ]
        }
      ],
      "source": [
        "print(hybrid_recommendation_with_demographics('83811', 'Bank Account'))\n"
      ]
    },
    {
      "cell_type": "code",
      "execution_count": 21,
      "metadata": {},
      "outputs": [],
      "source": [
        "import numpy as np\n",
        "\n",
        "class LinUCB:\n",
        "    def __init__(self, alpha, d):\n",
        "        self.alpha = alpha\n",
        "        self.d = d\n",
        "        self.A = np.identity(d)\n",
        "        self.b = np.zeros(d)\n",
        "        \n",
        "    def select_arm(self, x):\n",
        "        A_inv = np.linalg.inv(self.A)\n",
        "        theta = np.dot(A_inv, self.b)\n",
        "        p = np.dot(theta, x) + self.alpha * np.sqrt(np.dot(x, np.dot(A_inv, x)))\n",
        "        return p\n",
        "\n",
        "    def update(self, x, reward):\n",
        "        self.A += np.outer(x, x)\n",
        "        self.b += reward * x\n"
      ]
    },
    {
      "cell_type": "code",
      "execution_count": 22,
      "metadata": {},
      "outputs": [],
      "source": [
        "class RLRecommender:\n",
        "    def __init__(self, alpha, d):\n",
        "        self.model = LinUCB(alpha, d)\n",
        "        \n",
        "    def recommend(self, user_context, items_context, n=6):\n",
        "        scores = [self.model.select_arm(np.concatenate([user_context, item])) for item in items_context]\n",
        "        item_indices = np.argsort(scores)[-n:]\n",
        "        return item_indices\n",
        "    \n",
        "    def update(self, user_context, item_context, reward):\n",
        "        self.model.update(np.concatenate([user_context, item_context]), reward)\n"
      ]
    },
    {
      "cell_type": "code",
      "execution_count": 23,
      "metadata": {},
      "outputs": [
        {
          "name": "stderr",
          "output_type": "stream",
          "text": [
            "C:\\Users\\jnopa\\AppData\\Local\\Temp\\ipykernel_12576\\3090510627.py:30: GradioUnusedKwargWarning: You have unused kwarg parameters in Slider, please remove them: {'default': 25}\n",
            "  Slider(minimum=10, maximum=80, step=1, default=25, label=\"Age\"),\n"
          ]
        },
        {
          "name": "stdout",
          "output_type": "stream",
          "text": [
            "Running on local URL:  http://127.0.0.1:7861\n",
            "\n",
            "To create a public link, set `share=True` in `launch()`.\n"
          ]
        },
        {
          "data": {
            "text/html": [
              "<div><iframe src=\"http://127.0.0.1:7861/\" width=\"100%\" height=\"500\" allow=\"autoplay; camera; microphone; clipboard-read; clipboard-write;\" frameborder=\"0\" allowfullscreen></iframe></div>"
            ],
            "text/plain": [
              "<IPython.core.display.HTML object>"
            ]
          },
          "metadata": {},
          "output_type": "display_data"
        },
        {
          "name": "stdout",
          "output_type": "stream",
          "text": [
            "IMPORTANT: You are using gradio version 3.50.0, however version 4.29.0 is available, please upgrade.\n",
            "--------\n",
            "Keyboard interruption in main thread... closing server.\n"
          ]
        }
      ],
      "source": [
        "from gradio import Interface\n",
        "from gradio.components import Slider, Dropdown, Radio, Textbox, Dataframe\n",
        "\n",
        "def recommend_songs(age, education, gender, country, favorite_artist, user_name):\n",
        "    # Preprocess user input\n",
        "    user_data = pd.DataFrame({\n",
        "        'age': [age],\n",
        "        'Education': [education],\n",
        "        'gender': [gender],\n",
        "        'country': [country]\n",
        "    })\n",
        "\n",
        "    user_data_demographics = preprocessor.transform(user_data)\n",
        "    user_context = user_data_demographics[0]\n",
        "    \n",
        "    # Simulate item context for demonstration\n",
        "    items_context = train_tfidf_df.values[:100]  # Using first 100 items for demonstration\n",
        "    \n",
        "    # Get recommendations using RL model\n",
        "    rl_recommender = RLRecommender(alpha=0.1, d=user_context.shape[0] + items_context.shape[1])\n",
        "    recommended_indices = rl_recommender.recommend(user_context, items_context)\n",
        "    recommended_songs = train_data.iloc[recommended_indices]\n",
        "    \n",
        "    return recommended_songs[['Music', 'artname', 'Genre', 'plays']]\n",
        "\n",
        "# Gradio interface\n",
        "interface = Interface(\n",
        "    fn=recommend_songs,\n",
        "    inputs=[\n",
        "        Slider(minimum=10, maximum=80, step=1, default=25, label=\"Age\"),\n",
        "        Dropdown(choices=list(train_data['Education'].unique()), label=\"Education\"),\n",
        "        Radio(choices=['Male', 'Female'], label=\"Gender\"),\n",
        "        Dropdown(choices=list(train_data['country'].unique()), label=\"Country\"),\n",
        "        Textbox(label=\"Favorite Artist\"),\n",
        "        Textbox(label=\"Username\")\n",
        "        \n",
        "    ],\n",
        "    outputs=Dataframe(headers=['Music', 'Artist', 'Genre', 'Plays'], type='pandas', label=\"Recommended Songs\")\n",
        ")\n",
        "\n",
        "interface.launch(debug=True)"
      ]
    },
    {
      "cell_type": "code",
      "execution_count": null,
      "metadata": {},
      "outputs": [],
      "source": []
    }
  ],
  "metadata": {
    "accelerator": "TPU",
    "colab": {
      "gpuType": "V28",
      "provenance": []
    },
    "kernelspec": {
      "display_name": "Python 3",
      "name": "python3"
    },
    "language_info": {
      "codemirror_mode": {
        "name": "ipython",
        "version": 3
      },
      "file_extension": ".py",
      "mimetype": "text/x-python",
      "name": "python",
      "nbconvert_exporter": "python",
      "pygments_lexer": "ipython3",
      "version": "3.10.11"
    }
  },
  "nbformat": 4,
  "nbformat_minor": 0
}
