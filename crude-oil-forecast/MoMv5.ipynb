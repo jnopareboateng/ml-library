{
 "cells": [
  {
   "cell_type": "code",
   "execution_count": 1,
   "metadata": {},
   "outputs": [
    {
     "ename": "SyntaxError",
     "evalue": "'return' outside function (arima.py, line 187)",
     "output_type": "error",
     "traceback": [
      "Traceback \u001b[1;36m(most recent call last)\u001b[0m:\n",
      "\u001b[0m  File \u001b[0;32md:\\DEV WORK\\Data Science Library\\ML-For-Beginners\\.venv\\lib\\site-packages\\IPython\\core\\interactiveshell.py:3553\u001b[0m in \u001b[0;35mrun_code\u001b[0m\n    exec(code_obj, self.user_global_ns, self.user_ns)\u001b[0m\n",
      "\u001b[0m  Cell \u001b[0;32mIn[1], line 5\u001b[0m\n    from MoMv4 import *\u001b[0m\n",
      "\u001b[1;36m  File \u001b[1;32md:\\DEV WORK\\Data Science Library\\ml-library\\crude-oil-forecast\\MoMv4.py:7\u001b[1;36m\n\u001b[1;33m    from arima import test_stationarity, preprocess_data, auto_arima_model, fit_sarimax_model, forecast_future_values, calculate_error_metrics as calculate_error_metrics_arima\u001b[1;36m\n",
      "\u001b[1;36m  File \u001b[1;32md:\\DEV WORK\\Data Science Library\\ml-library\\crude-oil-forecast\\arima.py:187\u001b[1;36m\u001b[0m\n\u001b[1;33m    return\u001b[0m\n\u001b[1;37m    ^\u001b[0m\n\u001b[1;31mSyntaxError\u001b[0m\u001b[1;31m:\u001b[0m 'return' outside function\n"
     ]
    }
   ],
   "source": [
    "# Import needed libraries\n",
    "import mlflow\n",
    "import mlflow.sklearn\n",
    "from arimav2 import *\n",
    "from MoMv4 import *\n",
    "from pmdarima import auto_arima"
   ]
  },
  {
   "cell_type": "code",
   "execution_count": 2,
   "metadata": {},
   "outputs": [
    {
     "name": "stderr",
     "output_type": "stream",
     "text": [
      "2024/05/06 22:01:34 INFO mlflow.tracking.fluent: Experiment with name 'Time Series Forecasting' does not exist. Creating a new experiment.\n"
     ]
    },
    {
     "data": {
      "text/plain": [
       "<Experiment: artifact_location='file:///d:/mlruns/648762148776296214', creation_time=1715032894339, experiment_id='648762148776296214', last_update_time=1715032894339, lifecycle_stage='active', name='Time Series Forecasting', tags={}>"
      ]
     },
     "execution_count": 2,
     "metadata": {},
     "output_type": "execute_result"
    }
   ],
   "source": [
    "# Set up MLflow tracking\n",
    "mlflow.set_tracking_uri(\"/mlruns\")\n",
    "mlflow.set_experiment(\"Time Series Forecasting\")\n"
   ]
  },
  {
   "cell_type": "code",
   "execution_count": null,
   "metadata": {},
   "outputs": [],
   "source": []
  }
 ],
 "metadata": {
  "kernelspec": {
   "display_name": ".venv",
   "language": "python",
   "name": "python3"
  },
  "language_info": {
   "codemirror_mode": {
    "name": "ipython",
    "version": 3
   },
   "file_extension": ".py",
   "mimetype": "text/x-python",
   "name": "python",
   "nbconvert_exporter": "python",
   "pygments_lexer": "ipython3",
   "version": "3.10.11"
  }
 },
 "nbformat": 4,
 "nbformat_minor": 2
}
