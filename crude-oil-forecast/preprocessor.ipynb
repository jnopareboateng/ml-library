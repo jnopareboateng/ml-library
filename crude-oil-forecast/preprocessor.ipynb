{
 "cells": [
  {
   "cell_type": "code",
   "execution_count": 1,
   "metadata": {},
   "outputs": [],
   "source": [
    "import pandas as pd\n",
    "import os\n",
    "\n",
    "def preprocess_data(dir_path, file_name):\n",
    "    # Construct the full file path\n",
    "    file_path = os.path.join(dir_path, file_name)\n",
    "\n",
    "    # Check if the file exists\n",
    "    if not os.path.isfile(file_path):\n",
    "        raise FileNotFoundError(f\"The file '{file_name}' does not exist in the directory '{dir_path}'.\")\n",
    "\n",
    "    # Load the data\n",
    "    df = pd.read_csv(file_path)\n",
    "\n",
    "    # Melt the dataframe to have years and months in the same column\n",
    "    df = df.melt(id_vars=['Year', 'Variables'], var_name='Month', value_name='Price')\n",
    "\n",
    "    # Combine the year and month columns to form a date column\n",
    "    df['Date'] = pd.to_datetime(df['Year'].astype(str) + '-' + df['Month'])\n",
    "\n",
    "    # Drop the year and month columns\n",
    "    df = df.drop(['Year', 'Month', 'Variables'], axis=1)\n",
    "\n",
    "    # Set date as index \n",
    "    df.set_index('Date', inplace=True)\n",
    "\n",
    "    # Reindex the df with min and max range of datetime components\n",
    "    df = df.reindex(pd.date_range(start='2002-01-01', end='2022-12-01', freq=\"MS\"))\n",
    "\n",
    "    # Store the modified df into a new csv file\n",
    "    df.to_csv('Modified Data.csv')\n",
    "\n",
    "# Call the function\n",
    "preprocess_data('crude-oil-forecast', 'Commodity Prices Monthly.csv')\n"
   ]
  },
  {
   "cell_type": "code",
   "execution_count": null,
   "metadata": {},
   "outputs": [],
   "source": []
  }
 ],
 "metadata": {
  "kernelspec": {
   "display_name": ".venv",
   "language": "python",
   "name": "python3"
  },
  "language_info": {
   "codemirror_mode": {
    "name": "ipython",
    "version": 3
   },
   "file_extension": ".py",
   "mimetype": "text/x-python",
   "name": "python",
   "nbconvert_exporter": "python",
   "pygments_lexer": "ipython3",
   "version": "3.10.11"
  }
 },
 "nbformat": 4,
 "nbformat_minor": 2
}
