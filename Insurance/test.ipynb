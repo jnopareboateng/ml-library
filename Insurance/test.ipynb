{
 "cells": [
  {
   "cell_type": "code",
   "execution_count": 1,
   "metadata": {},
   "outputs": [
    {
     "name": "stderr",
     "output_type": "stream",
     "text": [
      "C:\\Users\\jnopa\\AppData\\Local\\Temp\\ipykernel_20640\\2009852259.py:16: UserWarning: Could not infer format, so each element will be parsed individually, falling back to `dateutil`. To ensure parsing is consistent and as-expected, please specify a format.\n",
      "  df = pd.read_csv(\n",
      "C:\\Users\\jnopa\\AppData\\Local\\Temp\\ipykernel_20640\\2009852259.py:16: UserWarning: Could not infer format, so each element will be parsed individually, falling back to `dateutil`. To ensure parsing is consistent and as-expected, please specify a format.\n",
      "  df = pd.read_csv(\n",
      "C:\\Users\\jnopa\\AppData\\Local\\Temp\\ipykernel_20640\\2009852259.py:16: UserWarning: Could not infer format, so each element will be parsed individually, falling back to `dateutil`. To ensure parsing is consistent and as-expected, please specify a format.\n",
      "  df = pd.read_csv(\n"
     ]
    },
    {
     "data": {
      "text/html": [
       "<div>\n",
       "<style scoped>\n",
       "    .dataframe tbody tr th:only-of-type {\n",
       "        vertical-align: middle;\n",
       "    }\n",
       "\n",
       "    .dataframe tbody tr th {\n",
       "        vertical-align: top;\n",
       "    }\n",
       "\n",
       "    .dataframe thead th {\n",
       "        text-align: right;\n",
       "    }\n",
       "</style>\n",
       "<table border=\"1\" class=\"dataframe\">\n",
       "  <thead>\n",
       "    <tr style=\"text-align: right;\">\n",
       "      <th></th>\n",
       "      <th>policy_number</th>\n",
       "      <th>policyholder</th>\n",
       "      <th>gender</th>\n",
       "      <th>occupation</th>\n",
       "      <th>branch</th>\n",
       "      <th>inst</th>\n",
       "      <th>plan</th>\n",
       "      <th>proposals</th>\n",
       "      <th>inception_date</th>\n",
       "      <th>expiry_date</th>\n",
       "      <th>monthly_premium</th>\n",
       "      <th>policy_value</th>\n",
       "      <th>paid_premium</th>\n",
       "      <th>premium</th>\n",
       "      <th>total_premium</th>\n",
       "    </tr>\n",
       "  </thead>\n",
       "  <tbody>\n",
       "    <tr>\n",
       "      <th>0</th>\n",
       "      <td>UKS2023T03696</td>\n",
       "      <td>BEATRICE</td>\n",
       "      <td>FEMALE</td>\n",
       "      <td>OFFICER</td>\n",
       "      <td>ACCRA NO BRANCH</td>\n",
       "      <td>7010101</td>\n",
       "      <td>FAMILY SECURITY PLAN</td>\n",
       "      <td>2023-12-12</td>\n",
       "      <td>2018-07-01</td>\n",
       "      <td>2027-09-01</td>\n",
       "      <td>30</td>\n",
       "      <td>500.0</td>\n",
       "      <td>87.3</td>\n",
       "      <td>3</td>\n",
       "      <td>1891.5</td>\n",
       "    </tr>\n",
       "    <tr>\n",
       "      <th>1</th>\n",
       "      <td>UKS2023T03701</td>\n",
       "      <td>DANIEL</td>\n",
       "      <td>MALE</td>\n",
       "      <td>TEACHER</td>\n",
       "      <td>ACCRA NO BRANCH</td>\n",
       "      <td>7010101</td>\n",
       "      <td>FAMILY SECURITY PLAN</td>\n",
       "      <td>2023-12-07</td>\n",
       "      <td>2021-09-01</td>\n",
       "      <td>2048-02-01</td>\n",
       "      <td>60</td>\n",
       "      <td>2000.0</td>\n",
       "      <td>174.6</td>\n",
       "      <td>3</td>\n",
       "      <td>1687.8</td>\n",
       "    </tr>\n",
       "    <tr>\n",
       "      <th>2</th>\n",
       "      <td>UKS2024T00359</td>\n",
       "      <td>JEMIMA</td>\n",
       "      <td>FEMALE</td>\n",
       "      <td>TEACHING</td>\n",
       "      <td>ACCRA NO BRANCH</td>\n",
       "      <td>7010101</td>\n",
       "      <td>FAMILY SECURITY PLAN</td>\n",
       "      <td>2024-01-25</td>\n",
       "      <td>2021-12-01</td>\n",
       "      <td>2052-12-01</td>\n",
       "      <td>150</td>\n",
       "      <td>2000.0</td>\n",
       "      <td>436.5</td>\n",
       "      <td>3</td>\n",
       "      <td>3783.0</td>\n",
       "    </tr>\n",
       "    <tr>\n",
       "      <th>3</th>\n",
       "      <td>UKS2023T03279</td>\n",
       "      <td>KWABENA</td>\n",
       "      <td>MALE</td>\n",
       "      <td>LABOURER</td>\n",
       "      <td>ACCRA NO BRANCH</td>\n",
       "      <td>7010101</td>\n",
       "      <td>FAMILY SECURITY PLAN</td>\n",
       "      <td>2023-11-02</td>\n",
       "      <td>2022-02-01</td>\n",
       "      <td>2039-02-01</td>\n",
       "      <td>50</td>\n",
       "      <td>1500.0</td>\n",
       "      <td>145.5</td>\n",
       "      <td>3</td>\n",
       "      <td>1164.0</td>\n",
       "    </tr>\n",
       "    <tr>\n",
       "      <th>4</th>\n",
       "      <td>UKS2024T00204</td>\n",
       "      <td>SAMUEL</td>\n",
       "      <td>MALE</td>\n",
       "      <td>ACCOUNTANT</td>\n",
       "      <td>ACCRA NO BRANCH</td>\n",
       "      <td>8440101</td>\n",
       "      <td>FAMILY SECURITY PLAN</td>\n",
       "      <td>2024-01-12</td>\n",
       "      <td>2022-02-01</td>\n",
       "      <td>2051-02-01</td>\n",
       "      <td>100</td>\n",
       "      <td>2000.0</td>\n",
       "      <td>0</td>\n",
       "      <td>0</td>\n",
       "      <td>100.0</td>\n",
       "    </tr>\n",
       "  </tbody>\n",
       "</table>\n",
       "</div>"
      ],
      "text/plain": [
       "   policy_number policyholder  gender  occupation           branch     inst  \\\n",
       "0  UKS2023T03696     BEATRICE  FEMALE     OFFICER  ACCRA NO BRANCH  7010101   \n",
       "1  UKS2023T03701       DANIEL    MALE     TEACHER  ACCRA NO BRANCH  7010101   \n",
       "2  UKS2024T00359       JEMIMA  FEMALE    TEACHING  ACCRA NO BRANCH  7010101   \n",
       "3  UKS2023T03279      KWABENA    MALE    LABOURER  ACCRA NO BRANCH  7010101   \n",
       "4  UKS2024T00204       SAMUEL    MALE  ACCOUNTANT  ACCRA NO BRANCH  8440101   \n",
       "\n",
       "                   plan  proposals inception_date expiry_date  \\\n",
       "0  FAMILY SECURITY PLAN 2023-12-12     2018-07-01  2027-09-01   \n",
       "1  FAMILY SECURITY PLAN 2023-12-07     2021-09-01  2048-02-01   \n",
       "2  FAMILY SECURITY PLAN 2024-01-25     2021-12-01  2052-12-01   \n",
       "3  FAMILY SECURITY PLAN 2023-11-02     2022-02-01  2039-02-01   \n",
       "4  FAMILY SECURITY PLAN 2024-01-12     2022-02-01  2051-02-01   \n",
       "\n",
       "   monthly_premium  policy_value paid_premium  premium  total_premium  \n",
       "0               30         500.0         87.3        3         1891.5  \n",
       "1               60        2000.0        174.6        3         1687.8  \n",
       "2              150        2000.0        436.5        3         3783.0  \n",
       "3               50        1500.0        145.5        3         1164.0  \n",
       "4              100        2000.0            0        0          100.0  "
      ]
     },
     "execution_count": 1,
     "metadata": {},
     "output_type": "execute_result"
    }
   ],
   "source": [
    "import pandas as pd\n",
    "from datetime import datetime\n",
    "from tomlkit import date\n",
    "import matplotlib.pyplot as plt\n",
    "import seaborn as sns\n",
    "\n",
    "plt.rc('figure', autolayout = True)\n",
    "plt.rc('axes',\n",
    "       labelsize = 'large',\n",
    "       labelweight = 'bold',\n",
    "       titlesize = 14,\n",
    "       titleweight = 'bold',\n",
    "       titlepad = 10\n",
    ")\n",
    "\n",
    "df = pd.read_csv(\n",
    "    'data/cleaned_data.csv', parse_dates = ['proposals', 'inception_date', 'expiry_date']\n",
    ").dropna().drop(columns=['Unnamed: 0'])\n",
    "\n",
    "for col in ['policy_value', 'total_premium']:\n",
    "    df[col] = df[col].str.replace(',', '').astype(float)\n",
    "df.head()\n"
   ]
  },
  {
   "cell_type": "code",
   "execution_count": 2,
   "metadata": {},
   "outputs": [
    {
     "name": "stdout",
     "output_type": "stream",
     "text": [
      "<class 'pandas.core.frame.DataFrame'>\n",
      "RangeIndex: 614 entries, 0 to 613\n",
      "Data columns (total 15 columns):\n",
      " #   Column           Non-Null Count  Dtype         \n",
      "---  ------           --------------  -----         \n",
      " 0   policy_number    614 non-null    object        \n",
      " 1   policyholder     614 non-null    object        \n",
      " 2   gender           614 non-null    object        \n",
      " 3   occupation       614 non-null    object        \n",
      " 4   branch           614 non-null    object        \n",
      " 5   inst             614 non-null    object        \n",
      " 6   plan             614 non-null    object        \n",
      " 7   proposals        614 non-null    datetime64[ns]\n",
      " 8   inception_date   614 non-null    datetime64[ns]\n",
      " 9   expiry_date      614 non-null    datetime64[ns]\n",
      " 10  monthly_premium  614 non-null    int64         \n",
      " 11  policy_value     614 non-null    float64       \n",
      " 12  paid_premium     614 non-null    object        \n",
      " 13  premium          614 non-null    int64         \n",
      " 14  total_premium    614 non-null    float64       \n",
      "dtypes: datetime64[ns](3), float64(2), int64(2), object(8)\n",
      "memory usage: 351.9 KB\n"
     ]
    }
   ],
   "source": [
    "df.info(memory_usage='deep')"
   ]
  },
  {
   "cell_type": "code",
   "execution_count": 3,
   "metadata": {},
   "outputs": [
    {
     "data": {
      "text/plain": [
       "<Axes: xlabel='count', ylabel='gender'>"
      ]
     },
     "execution_count": 3,
     "metadata": {},
     "output_type": "execute_result"
    },
    {
     "data": {
      "image/png": "[encoded data removed]",
      "text/plain": [
       "<Figure size 640x480 with 1 Axes>"
      ]
     },
     "metadata": {},
     "output_type": "display_data"
    }
   ],
   "source": [
    "sns.countplot(df['gender'])"
   ]
  },
  {
   "cell_type": "code",
   "execution_count": 4,
   "metadata": {},
   "outputs": [],
   "source": [
    "\n",
    "# df[['POLICY', 'MONTHLY', 'PREMIUM']] = df[['POLICY', 'MONTHLY', 'PREMIUM']].astype('int32')\n",
    "# df[['SUM', 'PAID PREMIUM', 'TOTAL PREMIUM']].str.replace(\n",
    "#     {',': '', '.': ''}).astype(float)\n",
    "# df[['PROPOSALS', 'INCEPTION', 'EXPIRY']] = pd.to_datetime(df[['PROPOSALS', 'INCEPTION', 'EXPIRY']], format = '%d-%m-%Y', errors = 'coerce')\n"
   ]
  },
  {
   "cell_type": "code",
   "execution_count": null,
   "metadata": {},
   "outputs": [],
   "source": [
    "from os import pipe\n",
    "from cv2 import threshold\n",
    "from sklearn.compose import make_column_selector, make_column_transformer\n",
    "from sklearn.preprocessing import StandardScaler\n",
    "from sklearn.pipeline import make_pipeline\n",
    "\n",
    "\n",
    "ct = make_column_transformer(\n",
    "    (StandardScaler(), make_column_selector(dtype_include=['int', 'float'])).,\n",
    "    (VarianceThreshold(threshold = 0.8), make_column_selector(dtype_include=['int', 'float'])\n",
    "    remainder='passthrough'\n",
    "\n",
    "    ))\n",
    "\n",
    "\n",
    "pipe = make_pipeline(ct)\n",
    "pipe.fit_transform(X_train)"
   ]
  },
  {
   "cell_type": "code",
   "execution_count": null,
   "metadata": {},
   "outputs": [],
   "source": []
  }
 ],
 "metadata": {
  "kernelspec": {
   "display_name": ".venv",
   "language": "python",
   "name": "python3"
  },
  "language_info": {
   "codemirror_mode": {
    "name": "ipython",
    "version": 3
   },
   "file_extension": ".py",
   "mimetype": "text/x-python",
   "name": "python",
   "nbconvert_exporter": "python",
   "pygments_lexer": "ipython3",
   "version": "3.10.11"
  }
 },
 "nbformat": 4,
 "nbformat_minor": 2
}
