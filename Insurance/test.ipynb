{
 "cells": [
  {
   "cell_type": "code",
   "execution_count": 30,
   "metadata": {},
   "outputs": [
    {
     "ename": "SyntaxError",
     "evalue": "invalid syntax. Perhaps you forgot a comma? (3965827149.py, line 11)",
     "output_type": "error",
     "traceback": [
      "\u001b[1;36m  Cell \u001b[1;32mIn[30], line 11\u001b[1;36m\u001b[0m\n\u001b[1;33m    titlesize = 14\u001b[0m\n\u001b[1;37m                ^\u001b[0m\n\u001b[1;31mSyntaxError\u001b[0m\u001b[1;31m:\u001b[0m invalid syntax. Perhaps you forgot a comma?\n"
     ]
    }
   ],
   "source": [
    "import pandas as pd\n",
    "from datetime import datetime\n",
    "from tomlkit import date\n",
    "import matplotlib.pyplot as plt\n",
    "import seaborn as sns\n",
    "\n",
    "plt.rc('figure', autolayout = True)\n",
    "plt.rc('axes',\n",
    "       labelsize = 'large',\n",
    "       labelweight = 'bold',\n",
    "       titlesize = 14,\n",
    "       titleweight = 'bold',\n",
    "       titlepad = 10\n",
    ")\n",
    "\n",
    "df = pd.read_csv(\n",
    "    'data/cleaned_data.csv', parse_dates = ['proposals', 'inception_date', 'expiry_date']\n",
    ").dropna().drop(columns=['Unnamed: 0'])\n",
    "\n",
    "for col in ['policy_value', 'total_premium']:\n",
    "    df[col] = df[col].str.replace(',', '').astype(float)\n",
    "df.head()\n"
   ]
  },
  {
   "cell_type": "code",
   "execution_count": 26,
   "metadata": {},
   "outputs": [
    {
     "name": "stdout",
     "output_type": "stream",
     "text": [
      "<class 'pandas.core.frame.DataFrame'>\n",
      "RangeIndex: 614 entries, 0 to 613\n",
      "Data columns (total 15 columns):\n",
      " #   Column           Non-Null Count  Dtype         \n",
      "---  ------           --------------  -----         \n",
      " 0   policy_number    614 non-null    object        \n",
      " 1   policyholder     614 non-null    object        \n",
      " 2   gender           614 non-null    object        \n",
      " 3   occupation       614 non-null    object        \n",
      " 4   branch           614 non-null    object        \n",
      " 5   inst             614 non-null    object        \n",
      " 6   plan             614 non-null    object        \n",
      " 7   proposals        614 non-null    datetime64[ns]\n",
      " 8   inception_date   614 non-null    datetime64[ns]\n",
      " 9   expiry_date      614 non-null    datetime64[ns]\n",
      " 10  monthly_premium  614 non-null    int64         \n",
      " 11  policy_value     614 non-null    float64       \n",
      " 12  paid_premium     614 non-null    object        \n",
      " 13  premium          614 non-null    int64         \n",
      " 14  total_premium    614 non-null    float64       \n",
      "dtypes: datetime64[ns](3), float64(2), int64(2), object(8)\n",
      "memory usage: 351.9 KB\n"
     ]
    }
   ],
   "source": [
    "df.info(memory_usage='deep');"
   ]
  },
  {
   "cell_type": "code",
   "execution_count": 29,
   "metadata": {},
   "outputs": [
    {
     "data": {
      "text/plain": [
       "<Axes: xlabel='count', ylabel='gender'>"
      ]
     },
     "execution_count": 29,
     "metadata": {},
     "output_type": "execute_result"
    },
    {
     "data": {
      "image/png": "[encoded data removed]",
      "text/plain": [
       "<Figure size 640x480 with 1 Axes>"
      ]
     },
     "metadata": {},
     "output_type": "display_data"
    }
   ],
   "source": [
    "sns.countplot(df['gender'])"
   ]
  },
  {
   "cell_type": "code",
   "execution_count": 18,
   "metadata": {},
   "outputs": [
    {
     "ename": "AttributeError",
     "evalue": "'DataFrame' object has no attribute 'str'",
     "output_type": "error",
     "traceback": [
      "\u001b[1;31m---------------------------------------------------------------------------\u001b[0m",
      "\u001b[1;31mAttributeError\u001b[0m                            Traceback (most recent call last)",
      "\u001b[1;32m~\\AppData\\Local\\Temp\\ipykernel_26936\\211013372.py\u001b[0m in \u001b[0;36m?\u001b[1;34m()\u001b[0m\n\u001b[0;32m      1\u001b[0m \u001b[0mdf\u001b[0m\u001b[1;33m[\u001b[0m\u001b[1;33m[\u001b[0m\u001b[1;34m'POLICY'\u001b[0m\u001b[1;33m,\u001b[0m \u001b[1;34m'MONTHLY'\u001b[0m\u001b[1;33m,\u001b[0m \u001b[1;34m'PREMIUM'\u001b[0m\u001b[1;33m]\u001b[0m\u001b[1;33m]\u001b[0m \u001b[1;33m=\u001b[0m \u001b[0mdf\u001b[0m\u001b[1;33m[\u001b[0m\u001b[1;33m[\u001b[0m\u001b[1;34m'POLICY'\u001b[0m\u001b[1;33m,\u001b[0m \u001b[1;34m'MONTHLY'\u001b[0m\u001b[1;33m,\u001b[0m \u001b[1;34m'PREMIUM'\u001b[0m\u001b[1;33m]\u001b[0m\u001b[1;33m]\u001b[0m\u001b[1;33m.\u001b[0m\u001b[0mastype\u001b[0m\u001b[1;33m(\u001b[0m\u001b[1;34m'int32'\u001b[0m\u001b[1;33m)\u001b[0m\u001b[1;33m\u001b[0m\u001b[1;33m\u001b[0m\u001b[0m\n\u001b[1;32m----> 2\u001b[1;33m df[['SUM', 'PAID PREMIUM', 'TOTAL PREMIUM']].str.replace(\n\u001b[0m\u001b[0;32m      3\u001b[0m     {',': '', '.': ''}).astype(float)\n\u001b[0;32m      4\u001b[0m \u001b[0mdf\u001b[0m\u001b[1;33m[\u001b[0m\u001b[1;33m[\u001b[0m\u001b[1;34m'PROPOSALS'\u001b[0m\u001b[1;33m,\u001b[0m \u001b[1;34m'INCEPTION'\u001b[0m\u001b[1;33m,\u001b[0m \u001b[1;34m'EXPIRY'\u001b[0m\u001b[1;33m]\u001b[0m\u001b[1;33m]\u001b[0m \u001b[1;33m=\u001b[0m \u001b[0mpd\u001b[0m\u001b[1;33m.\u001b[0m\u001b[0mto_datetime\u001b[0m\u001b[1;33m(\u001b[0m\u001b[0mdf\u001b[0m\u001b[1;33m[\u001b[0m\u001b[1;33m[\u001b[0m\u001b[1;34m'PROPOSALS'\u001b[0m\u001b[1;33m,\u001b[0m \u001b[1;34m'INCEPTION'\u001b[0m\u001b[1;33m,\u001b[0m \u001b[1;34m'EXPIRY'\u001b[0m\u001b[1;33m]\u001b[0m\u001b[1;33m]\u001b[0m\u001b[1;33m,\u001b[0m \u001b[0mformat\u001b[0m \u001b[1;33m=\u001b[0m \u001b[1;34m'%d-%m-%Y'\u001b[0m\u001b[1;33m,\u001b[0m \u001b[0merrors\u001b[0m \u001b[1;33m=\u001b[0m \u001b[1;34m'coerce'\u001b[0m\u001b[1;33m)\u001b[0m\u001b[1;33m\u001b[0m\u001b[1;33m\u001b[0m\u001b[0m\n",
      "\u001b[1;32md:\\DEV WORK\\Data Science Library\\ML-For-Beginners\\.venv\\lib\\site-packages\\pandas\\core\\generic.py\u001b[0m in \u001b[0;36m?\u001b[1;34m(self, name)\u001b[0m\n\u001b[0;32m   6295\u001b[0m             \u001b[1;32mand\u001b[0m \u001b[0mname\u001b[0m \u001b[1;32mnot\u001b[0m \u001b[1;32min\u001b[0m \u001b[0mself\u001b[0m\u001b[1;33m.\u001b[0m\u001b[0m_accessors\u001b[0m\u001b[1;33m\u001b[0m\u001b[1;33m\u001b[0m\u001b[0m\n\u001b[0;32m   6296\u001b[0m             \u001b[1;32mand\u001b[0m \u001b[0mself\u001b[0m\u001b[1;33m.\u001b[0m\u001b[0m_info_axis\u001b[0m\u001b[1;33m.\u001b[0m\u001b[0m_can_hold_identifiers_and_holds_name\u001b[0m\u001b[1;33m(\u001b[0m\u001b[0mname\u001b[0m\u001b[1;33m)\u001b[0m\u001b[1;33m\u001b[0m\u001b[1;33m\u001b[0m\u001b[0m\n\u001b[0;32m   6297\u001b[0m         ):\n\u001b[0;32m   6298\u001b[0m             \u001b[1;32mreturn\u001b[0m \u001b[0mself\u001b[0m\u001b[1;33m[\u001b[0m\u001b[0mname\u001b[0m\u001b[1;33m]\u001b[0m\u001b[1;33m\u001b[0m\u001b[1;33m\u001b[0m\u001b[0m\n\u001b[1;32m-> 6299\u001b[1;33m         \u001b[1;32mreturn\u001b[0m \u001b[0mobject\u001b[0m\u001b[1;33m.\u001b[0m\u001b[0m__getattribute__\u001b[0m\u001b[1;33m(\u001b[0m\u001b[0mself\u001b[0m\u001b[1;33m,\u001b[0m \u001b[0mname\u001b[0m\u001b[1;33m)\u001b[0m\u001b[1;33m\u001b[0m\u001b[1;33m\u001b[0m\u001b[0m\n\u001b[0m",
      "\u001b[1;31mAttributeError\u001b[0m: 'DataFrame' object has no attribute 'str'"
     ]
    }
   ],
   "source": [
    "\n",
    "df[['POLICY', 'MONTHLY', 'PREMIUM']] = df[['POLICY', 'MONTHLY', 'PREMIUM']].astype('int32')\n",
    "df[['SUM', 'PAID PREMIUM', 'TOTAL PREMIUM']].str.replace(\n",
    "    {',': '', '.': ''}).astype(float)\n",
    "df[['PROPOSALS', 'INCEPTION', 'EXPIRY']] = pd.to_datetime(df[['PROPOSALS', 'INCEPTION', 'EXPIRY']], format = '%d-%m-%Y', errors = 'coerce')\n"
   ]
  },
  {
   "cell_type": "code",
   "execution_count": null,
   "metadata": {},
   "outputs": [],
   "source": [
    "from os import pipe\n",
    "from cv2 import threshold\n",
    "from sklearn.compose import make_column_selector, make_column_transformer\n",
    "from sklearn.preprocessing import StandardScaler\n",
    "from sklearn.pipeline import make_pipeline\n",
    "\n",
    "X_\n",
    "\n",
    "\n",
    "ct = make_column_transformer(\n",
    "    (StandardScaler(), make_column_selector(dtype_include=['int', 'float'])).,\n",
    "    (VarianceThreshold(threshold = 0.8), make_column_selector(dtype_include=['int', 'float'])\n",
    "    remainder='passthrough'\n",
    ")\n",
    "\n",
    "\n",
    "pipe = make_pipeline(ct)\n",
    "pipe.fit_transform(X_train)"
   ]
  },
  {
   "cell_type": "code",
   "execution_count": null,
   "metadata": {},
   "outputs": [],
   "source": []
  }
 ],
 "metadata": {
  "kernelspec": {
   "display_name": ".venv",
   "language": "python",
   "name": "python3"
  },
  "language_info": {
   "codemirror_mode": {
    "name": "ipython",
    "version": 3
   },
   "file_extension": ".py",
   "mimetype": "text/x-python",
   "name": "python",
   "nbconvert_exporter": "python",
   "pygments_lexer": "ipython3",
   "version": "3.10.11"
  }
 },
 "nbformat": 4,
 "nbformat_minor": 2
}
