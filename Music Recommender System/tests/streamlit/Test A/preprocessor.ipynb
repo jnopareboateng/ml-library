{
 "cells": [
  {
   "cell_type": "code",
   "execution_count": null,
   "metadata": {},
   "outputs": [],
   "source": [
    "import pandas as pd\n",
    "import numpy as np\n",
    "\n",
    "def load_data(filepath, sample_size=None):\n",
    "    data = pd.read_csv(filepath)\n",
    "    if sample_size:\n",
    "        data = data.sample(sample_size)\n",
    "    return data\n",
    "\n",
    "data = load_data('../../data/dataset.csv', sample_size=5000)\n"
   ]
  }
 ],
 "metadata": {
  "language_info": {
   "name": "python"
  }
 },
 "nbformat": 4,
 "nbformat_minor": 2
}
