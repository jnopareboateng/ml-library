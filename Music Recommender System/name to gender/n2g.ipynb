{
 "cells": [
  {
   "cell_type": "code",
   "execution_count": 1,
   "metadata": {},
   "outputs": [],
   "source": [
    "from sklearn.model_selection import train_test_split, cross_val_score\n",
    "from sklearn.preprocessing import LabelEncoder\n",
    "from sklearn.feature_extraction.text import CountVectorizer\n",
    "from sklearn.naive_bayes import MultinomialNB\n",
    "from sklearn.ensemble import RandomForestClassifier, GradientBoostingClassifier\n",
    "from sklearn.svm import SVC\n",
    "from sklearn.metrics import accuracy_score, classification_report\n",
    "import pandas as pd\n",
    "import numpy as np"
   ]
  },
  {
   "cell_type": "code",
   "execution_count": 15,
   "metadata": {},
   "outputs": [],
   "source": [
    "df = pd.read_csv(\"../data/name_gender.csv\")"
   ]
  },
  {
   "cell_type": "code",
   "execution_count": 16,
   "metadata": {},
   "outputs": [
    {
     "data": {
      "text/html": [
       "<div>\n",
       "<style scoped>\n",
       "    .dataframe tbody tr th:only-of-type {\n",
       "        vertical-align: middle;\n",
       "    }\n",
       "\n",
       "    .dataframe tbody tr th {\n",
       "        vertical-align: top;\n",
       "    }\n",
       "\n",
       "    .dataframe thead th {\n",
       "        text-align: right;\n",
       "    }\n",
       "</style>\n",
       "<table border=\"1\" class=\"dataframe\">\n",
       "  <thead>\n",
       "    <tr style=\"text-align: right;\">\n",
       "      <th></th>\n",
       "      <th>name</th>\n",
       "      <th>gender</th>\n",
       "      <th>prob</th>\n",
       "    </tr>\n",
       "  </thead>\n",
       "  <tbody>\n",
       "    <tr>\n",
       "      <th>0</th>\n",
       "      <td>Aaban</td>\n",
       "      <td>M</td>\n",
       "      <td>1.0</td>\n",
       "    </tr>\n",
       "    <tr>\n",
       "      <th>1</th>\n",
       "      <td>Aabha</td>\n",
       "      <td>F</td>\n",
       "      <td>1.0</td>\n",
       "    </tr>\n",
       "    <tr>\n",
       "      <th>2</th>\n",
       "      <td>Aabid</td>\n",
       "      <td>M</td>\n",
       "      <td>1.0</td>\n",
       "    </tr>\n",
       "    <tr>\n",
       "      <th>3</th>\n",
       "      <td>Aabriella</td>\n",
       "      <td>F</td>\n",
       "      <td>1.0</td>\n",
       "    </tr>\n",
       "    <tr>\n",
       "      <th>4</th>\n",
       "      <td>Aada</td>\n",
       "      <td>F</td>\n",
       "      <td>1.0</td>\n",
       "    </tr>\n",
       "  </tbody>\n",
       "</table>\n",
       "</div>"
      ],
      "text/plain": [
       "        name gender  prob\n",
       "0      Aaban      M   1.0\n",
       "1      Aabha      F   1.0\n",
       "2      Aabid      M   1.0\n",
       "3  Aabriella      F   1.0\n",
       "4       Aada      F   1.0"
      ]
     },
     "execution_count": 16,
     "metadata": {},
     "output_type": "execute_result"
    }
   ],
   "source": [
    "df.head()"
   ]
  },
  {
   "cell_type": "code",
   "execution_count": 24,
   "metadata": {},
   "outputs": [],
   "source": [
    "features = df[\"name\"]\n",
    "labels = df[\"gender\"]"
   ]
  },
  {
   "cell_type": "code",
   "execution_count": 25,
   "metadata": {},
   "outputs": [
    {
     "name": "stdout",
     "output_type": "stream",
     "text": [
      "X_train shape: (76020,)\n",
      "X_test shape: (19005,)\n",
      "y_train shape: (76020,)\n",
      "y_test shape: (19005,)\n"
     ]
    }
   ],
   "source": [
    "# Preprocess and split your data\n",
    "X_train, X_test, y_train, y_test = train_test_split(\n",
    "    features, labels, test_size=0.2, random_state=42\n",
    ")\n",
    "print(\n",
    "    f\"X_train shape: {X_train.shape}\\nX_test shape: {X_test.shape}\\ny_train shape: {y_train.shape}\\ny_test shape: {y_test.shape}\"\n",
    ")"
   ]
  },
  {
   "cell_type": "code",
   "execution_count": 26,
   "metadata": {},
   "outputs": [],
   "source": [
    "# Encode labels\n",
    "le = LabelEncoder()\n",
    "y_train_encoded = le.fit_transform(y_train)\n",
    "y_test_encoded = le.transform(y_test)"
   ]
  },
  {
   "cell_type": "code",
   "execution_count": 27,
   "metadata": {},
   "outputs": [],
   "source": [
    "# Feature extraction\n",
    "vectorizer = CountVectorizer(analyzer=\"char\", ngram_range=(1, 3))\n",
    "X_train_vectorized = vectorizer.fit_transform(X_train)\n",
    "X_test_vectorized = vectorizer.transform(X_test)"
   ]
  },
  {
   "cell_type": "code",
   "execution_count": 28,
   "metadata": {},
   "outputs": [],
   "source": [
    "# Initialize models\n",
    "models = {\n",
    "    \"Naive Bayes\": MultinomialNB(),\n",
    "    \"Random Forest\": RandomForestClassifier(),\n",
    "    \"SVR\": SVC(kernel=\"linear\", probability=True),  # Since we're doing classification\n",
    "    \"Gradient Boosting\": GradientBoostingClassifier(),\n",
    "}"
   ]
  },
  {
   "cell_type": "code",
   "execution_count": 29,
   "metadata": {},
   "outputs": [],
   "source": [
    "# Check for shape mismatch\n",
    "assert X_train_vectorized.shape[0] == len(y_train_encoded), \"Mismatched sample sizes\""
   ]
  },
  {
   "cell_type": "code",
   "execution_count": 30,
   "metadata": {},
   "outputs": [
    {
     "name": "stdout",
     "output_type": "stream",
     "text": [
      "Naive Bayes Accuracy: 0.7591160220994475\n",
      "Random Forest Accuracy: 0.827466456195738\n",
      "SVR Accuracy: 0.8635096027361222\n",
      "Gradient Boosting Accuracy: 0.7675874769797422\n"
     ]
    }
   ],
   "source": [
    "# Train and evaluate models\n",
    "for name, model in models.items():\n",
    "    model.fit(X_train_vectorized, y_train_encoded)\n",
    "    scores = cross_val_score(model, X_test_vectorized, y_test_encoded, cv=5)\n",
    "    print(f\"{name} Accuracy: {scores.mean()}\")"
   ]
  },
  {
   "cell_type": "code",
   "execution_count": 31,
   "metadata": {},
   "outputs": [
    {
     "name": "stderr",
     "output_type": "stream",
     "text": [
      "d:\\DEV WORK\\Data Science Library\\ML-For-Beginners\\.venv\\lib\\site-packages\\sklearn\\model_selection\\_search.py:320: UserWarning: The total space of parameters 5 is smaller than n_iter=10. Running 5 iterations. For exhaustive searches, use GridSearchCV.\n",
      "  warnings.warn(\n",
      "d:\\DEV WORK\\Data Science Library\\ML-For-Beginners\\.venv\\lib\\site-packages\\sklearn\\model_selection\\_validation.py:540: FitFailedWarning: \n",
      "5 fits failed out of a total of 50.\n",
      "The score on these train-test partitions for these parameters will be set to nan.\n",
      "If these failures are not expected, you can try to debug them by setting error_score='raise'.\n",
      "\n",
      "Below are more details about the failures:\n",
      "--------------------------------------------------------------------------------\n",
      "5 fits failed with the following error:\n",
      "Traceback (most recent call last):\n",
      "  File \"d:\\DEV WORK\\Data Science Library\\ML-For-Beginners\\.venv\\lib\\site-packages\\sklearn\\model_selection\\_validation.py\", line 888, in _fit_and_score\n",
      "    estimator.fit(X_train, y_train, **fit_params)\n",
      "  File \"d:\\DEV WORK\\Data Science Library\\ML-For-Beginners\\.venv\\lib\\site-packages\\sklearn\\base.py\", line 1466, in wrapper\n",
      "    estimator._validate_params()\n",
      "  File \"d:\\DEV WORK\\Data Science Library\\ML-For-Beginners\\.venv\\lib\\site-packages\\sklearn\\base.py\", line 666, in _validate_params\n",
      "    validate_parameter_constraints(\n",
      "  File \"d:\\DEV WORK\\Data Science Library\\ML-For-Beginners\\.venv\\lib\\site-packages\\sklearn\\utils\\_param_validation.py\", line 95, in validate_parameter_constraints\n",
      "    raise InvalidParameterError(\n",
      "sklearn.utils._param_validation.InvalidParameterError: The 'max_features' parameter of RandomForestClassifier must be an int in the range [1, inf), a float in the range (0.0, 1.0], a str among {'sqrt', 'log2'} or None. Got 'auto' instead.\n",
      "\n",
      "  warnings.warn(some_fits_failed_message, FitFailedWarning)\n",
      "d:\\DEV WORK\\Data Science Library\\ML-For-Beginners\\.venv\\lib\\site-packages\\sklearn\\model_selection\\_search.py:1052: UserWarning: One or more of the test scores are non-finite: [0.63466193 0.72590108 0.70598527 0.86746909 0.70973428        nan\n",
      " 0.69273875 0.75418311 0.63772691 0.80774796]\n",
      "  warnings.warn(\n"
     ]
    }
   ],
   "source": [
    "from sklearn.model_selection import RandomizedSearchCV\n",
    "\n",
    "# Define the parameter grid for each model\n",
    "param_grid_nb = {\"alpha\": [0.01, 0.1, 1, 10, 100]}\n",
    "\n",
    "param_grid_rf = {\n",
    "    \"n_estimators\": [10, 50, 100, 200],\n",
    "    \"max_depth\": [None, 10, 20, 30],\n",
    "    \"min_samples_split\": [2, 5, 10],\n",
    "    \"min_samples_leaf\": [1, 2, 4],\n",
    "    \"max_features\": [\"sqrt\", \"log2\"],\n",
    "}\n",
    "\n",
    "param_grid_svc = {\n",
    "    \"C\": [0.1, 1, 10, 100],\n",
    "    \"gamma\": [\"scale\", \"auto\"],\n",
    "    \"kernel\": [\"linear\", \"rbf\", \"poly\"],\n",
    "}\n",
    "\n",
    "param_grid_gb = {\n",
    "    \"n_estimators\": [100, 200, 300],\n",
    "    \"learning_rate\": [0.01, 0.1, 0.2],\n",
    "    \"max_depth\": [3, 4, 5],\n",
    "}\n",
    "\n",
    "# Initialize RandomizedSearchCV for each model\n",
    "random_search_cv_nb = RandomizedSearchCV(\n",
    "    MultinomialNB(), param_grid_nb, cv=5, scoring=\"accuracy\"\n",
    ")\n",
    "random_search_cv_rf = RandomizedSearchCV(\n",
    "    RandomForestClassifier(), param_grid_rf, cv=5, scoring=\"accuracy\"\n",
    ")\n",
    "random_search_cv_svc = RandomizedSearchCV(\n",
    "    SVC(), param_grid_svc, cv=5, scoring=\"accuracy\"\n",
    ")\n",
    "random_search_cv_gb = RandomizedSearchCV(\n",
    "    GradientBoostingClassifier(), param_grid_gb, cv=5, scoring=\"accuracy\"\n",
    ")\n",
    "\n",
    "# Perform hyperparameter tuning and fit the models\n",
    "random_search_cv_nb.fit(X_train_vectorized, y_train_encoded)\n",
    "random_search_cv_rf.fit(X_train_vectorized, y_train_encoded)\n",
    "random_search_cv_svc.fit(X_train_vectorized, y_train_encoded)\n",
    "random_search_cv_gb.fit(X_train_vectorized, y_train_encoded)\n",
    "\n",
    "# Get the best parameters and the best score for each model\n",
    "best_params_nb = random_search_cv_nb.best_params_\n",
    "best_score_nb = random_search_cv_nb.best_score_\n",
    "\n",
    "best_params_rf = random_search_cv_rf.best_params_\n",
    "best_score_rf = random_search_cv_rf.best_score_\n",
    "\n",
    "best_params_svc = random_search_cv_svc.best_params_\n",
    "best_score_svc = random_search_cv_svc.best_score_\n",
    "\n",
    "best_params_gb = random_search_cv_gb.best_params_\n",
    "best_score_gb = random_search_cv_gb.best_score_\n",
    "\n",
    "# Print the best parameters and the best score for each model\n",
    "print(f\"Naive Bayes Best Params: {best_params_nb}, Best Score: {best_score_nb}\")\n",
    "print(f\"Random Forest Best Params: {best_params_rf}, Best Score: {best_score_rf}\")\n",
    "print(f\"SVC Best Params: {best_params_svc}, Best Score: {best_score_svc}\")\n",
    "print(f\"Gradient Boosting Best Params: {best_params_gb}, Best Score: {best_score_gb}\")\n",
    "\n",
    "# Use the best estimator for further predictions\n",
    "best_model_nb = random_search_cv_nb.best_estimator_\n",
    "best_model_rf = random_search_cv_rf.best_estimator_\n",
    "best_model_svc = random_search_cv_svc.best_estimator_\n",
    "best_model_gb = random_search_cv_gb.best_estimator_"
   ]
  },
  {
   "cell_type": "code",
   "execution_count": null,
   "metadata": {},
   "outputs": [],
   "source": []
  }
 ],
 "metadata": {
  "kernelspec": {
   "display_name": ".venv",
   "language": "python",
   "name": "python3"
  },
  "language_info": {
   "codemirror_mode": {
    "name": "ipython",
    "version": 3
   },
   "file_extension": ".py",
   "mimetype": "text/x-python",
   "name": "python",
   "nbconvert_exporter": "python",
   "pygments_lexer": "ipython3",
   "version": "3.10.11"
  }
 },
 "nbformat": 4,
 "nbformat_minor": 2
}
